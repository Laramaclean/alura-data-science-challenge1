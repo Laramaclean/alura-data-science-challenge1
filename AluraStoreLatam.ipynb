{
  "nbformat": 4,
  "nbformat_minor": 0,
  "metadata": {
    "colab": {
      "provenance": []
    },
    "kernelspec": {
      "name": "python3",
      "display_name": "Python 3"
    },
    "language_info": {
      "name": "python"
    }
  },
  "cells": [
    {
      "cell_type": "markdown",
      "source": [
        "### Importación de datos\n",
        "\n"
      ],
      "metadata": {
        "id": "RhEdWd9YUR6H"
      }
    },
    {
      "cell_type": "code",
      "execution_count": 88,
      "metadata": {
        "colab": {
          "base_uri": "https://localhost:8080/",
          "height": 400
        },
        "id": "T3EvaeQ_INIL",
        "outputId": "1f3f8369-f4c0-42bc-c823-d72c5fb2d804"
      },
      "outputs": [
        {
          "output_type": "execute_result",
          "data": {
            "text/plain": [
              "            Producto Categoría del Producto  Precio  Costo de envío  \\\n",
              "0  Asistente virtual           Electrónicos 164,300           6,900   \n",
              "1    Mesa de comedor                Muebles 192,300           8,400   \n",
              "2      Juego de mesa               Juguetes 209,600          15,900   \n",
              "3         Microondas      Electrodomésticos 757,500          41,000   \n",
              "4   Silla de oficina                Muebles 335,200          20,200   \n",
              "\n",
              "  Fecha de Compra         Vendedor Lugar de Compra  Calificación  \\\n",
              "0      16/01/2021      Pedro Gomez          Bogotá             4   \n",
              "1      18/05/2022  Beatriz Morales        Medellín             1   \n",
              "2      15/03/2021   Juan Fernandez       Cartagena             1   \n",
              "3      03/05/2022   Juan Fernandez            Cali             4   \n",
              "4      07/11/2020    Maria Alfonso        Medellín             5   \n",
              "\n",
              "       Método de pago  Cantidad de cuotas  lat  lon  \n",
              "0  Tarjeta de crédito                   8    5  -74  \n",
              "1  Tarjeta de crédito                   4    6  -76  \n",
              "2  Tarjeta de crédito                   1   10  -76  \n",
              "3               Nequi                   1    3  -77  \n",
              "4               Nequi                   1    6  -76  "
            ],
            "text/html": [
              "\n",
              "  <div id=\"df-05b51d05-e3dc-4a95-b84f-8c8ed39b8999\" class=\"colab-df-container\">\n",
              "    <div>\n",
              "<style scoped>\n",
              "    .dataframe tbody tr th:only-of-type {\n",
              "        vertical-align: middle;\n",
              "    }\n",
              "\n",
              "    .dataframe tbody tr th {\n",
              "        vertical-align: top;\n",
              "    }\n",
              "\n",
              "    .dataframe thead th {\n",
              "        text-align: right;\n",
              "    }\n",
              "</style>\n",
              "<table border=\"1\" class=\"dataframe\">\n",
              "  <thead>\n",
              "    <tr style=\"text-align: right;\">\n",
              "      <th></th>\n",
              "      <th>Producto</th>\n",
              "      <th>Categoría del Producto</th>\n",
              "      <th>Precio</th>\n",
              "      <th>Costo de envío</th>\n",
              "      <th>Fecha de Compra</th>\n",
              "      <th>Vendedor</th>\n",
              "      <th>Lugar de Compra</th>\n",
              "      <th>Calificación</th>\n",
              "      <th>Método de pago</th>\n",
              "      <th>Cantidad de cuotas</th>\n",
              "      <th>lat</th>\n",
              "      <th>lon</th>\n",
              "    </tr>\n",
              "  </thead>\n",
              "  <tbody>\n",
              "    <tr>\n",
              "      <th>0</th>\n",
              "      <td>Asistente virtual</td>\n",
              "      <td>Electrónicos</td>\n",
              "      <td>164,300</td>\n",
              "      <td>6,900</td>\n",
              "      <td>16/01/2021</td>\n",
              "      <td>Pedro Gomez</td>\n",
              "      <td>Bogotá</td>\n",
              "      <td>4</td>\n",
              "      <td>Tarjeta de crédito</td>\n",
              "      <td>8</td>\n",
              "      <td>5</td>\n",
              "      <td>-74</td>\n",
              "    </tr>\n",
              "    <tr>\n",
              "      <th>1</th>\n",
              "      <td>Mesa de comedor</td>\n",
              "      <td>Muebles</td>\n",
              "      <td>192,300</td>\n",
              "      <td>8,400</td>\n",
              "      <td>18/05/2022</td>\n",
              "      <td>Beatriz Morales</td>\n",
              "      <td>Medellín</td>\n",
              "      <td>1</td>\n",
              "      <td>Tarjeta de crédito</td>\n",
              "      <td>4</td>\n",
              "      <td>6</td>\n",
              "      <td>-76</td>\n",
              "    </tr>\n",
              "    <tr>\n",
              "      <th>2</th>\n",
              "      <td>Juego de mesa</td>\n",
              "      <td>Juguetes</td>\n",
              "      <td>209,600</td>\n",
              "      <td>15,900</td>\n",
              "      <td>15/03/2021</td>\n",
              "      <td>Juan Fernandez</td>\n",
              "      <td>Cartagena</td>\n",
              "      <td>1</td>\n",
              "      <td>Tarjeta de crédito</td>\n",
              "      <td>1</td>\n",
              "      <td>10</td>\n",
              "      <td>-76</td>\n",
              "    </tr>\n",
              "    <tr>\n",
              "      <th>3</th>\n",
              "      <td>Microondas</td>\n",
              "      <td>Electrodomésticos</td>\n",
              "      <td>757,500</td>\n",
              "      <td>41,000</td>\n",
              "      <td>03/05/2022</td>\n",
              "      <td>Juan Fernandez</td>\n",
              "      <td>Cali</td>\n",
              "      <td>4</td>\n",
              "      <td>Nequi</td>\n",
              "      <td>1</td>\n",
              "      <td>3</td>\n",
              "      <td>-77</td>\n",
              "    </tr>\n",
              "    <tr>\n",
              "      <th>4</th>\n",
              "      <td>Silla de oficina</td>\n",
              "      <td>Muebles</td>\n",
              "      <td>335,200</td>\n",
              "      <td>20,200</td>\n",
              "      <td>07/11/2020</td>\n",
              "      <td>Maria Alfonso</td>\n",
              "      <td>Medellín</td>\n",
              "      <td>5</td>\n",
              "      <td>Nequi</td>\n",
              "      <td>1</td>\n",
              "      <td>6</td>\n",
              "      <td>-76</td>\n",
              "    </tr>\n",
              "  </tbody>\n",
              "</table>\n",
              "</div>\n",
              "    <div class=\"colab-df-buttons\">\n",
              "\n",
              "  <div class=\"colab-df-container\">\n",
              "    <button class=\"colab-df-convert\" onclick=\"convertToInteractive('df-05b51d05-e3dc-4a95-b84f-8c8ed39b8999')\"\n",
              "            title=\"Convert this dataframe to an interactive table.\"\n",
              "            style=\"display:none;\">\n",
              "\n",
              "  <svg xmlns=\"http://www.w3.org/2000/svg\" height=\"24px\" viewBox=\"0 -960 960 960\">\n",
              "    <path d=\"M120-120v-720h720v720H120Zm60-500h600v-160H180v160Zm220 220h160v-160H400v160Zm0 220h160v-160H400v160ZM180-400h160v-160H180v160Zm440 0h160v-160H620v160ZM180-180h160v-160H180v160Zm440 0h160v-160H620v160Z\"/>\n",
              "  </svg>\n",
              "    </button>\n",
              "\n",
              "  <style>\n",
              "    .colab-df-container {\n",
              "      display:flex;\n",
              "      gap: 12px;\n",
              "    }\n",
              "\n",
              "    .colab-df-convert {\n",
              "      background-color: #E8F0FE;\n",
              "      border: none;\n",
              "      border-radius: 50%;\n",
              "      cursor: pointer;\n",
              "      display: none;\n",
              "      fill: #1967D2;\n",
              "      height: 32px;\n",
              "      padding: 0 0 0 0;\n",
              "      width: 32px;\n",
              "    }\n",
              "\n",
              "    .colab-df-convert:hover {\n",
              "      background-color: #E2EBFA;\n",
              "      box-shadow: 0px 1px 2px rgba(60, 64, 67, 0.3), 0px 1px 3px 1px rgba(60, 64, 67, 0.15);\n",
              "      fill: #174EA6;\n",
              "    }\n",
              "\n",
              "    .colab-df-buttons div {\n",
              "      margin-bottom: 4px;\n",
              "    }\n",
              "\n",
              "    [theme=dark] .colab-df-convert {\n",
              "      background-color: #3B4455;\n",
              "      fill: #D2E3FC;\n",
              "    }\n",
              "\n",
              "    [theme=dark] .colab-df-convert:hover {\n",
              "      background-color: #434B5C;\n",
              "      box-shadow: 0px 1px 3px 1px rgba(0, 0, 0, 0.15);\n",
              "      filter: drop-shadow(0px 1px 2px rgba(0, 0, 0, 0.3));\n",
              "      fill: #FFFFFF;\n",
              "    }\n",
              "  </style>\n",
              "\n",
              "    <script>\n",
              "      const buttonEl =\n",
              "        document.querySelector('#df-05b51d05-e3dc-4a95-b84f-8c8ed39b8999 button.colab-df-convert');\n",
              "      buttonEl.style.display =\n",
              "        google.colab.kernel.accessAllowed ? 'block' : 'none';\n",
              "\n",
              "      async function convertToInteractive(key) {\n",
              "        const element = document.querySelector('#df-05b51d05-e3dc-4a95-b84f-8c8ed39b8999');\n",
              "        const dataTable =\n",
              "          await google.colab.kernel.invokeFunction('convertToInteractive',\n",
              "                                                    [key], {});\n",
              "        if (!dataTable) return;\n",
              "\n",
              "        const docLinkHtml = 'Like what you see? Visit the ' +\n",
              "          '<a target=\"_blank\" href=https://colab.research.google.com/notebooks/data_table.ipynb>data table notebook</a>'\n",
              "          + ' to learn more about interactive tables.';\n",
              "        element.innerHTML = '';\n",
              "        dataTable['output_type'] = 'display_data';\n",
              "        await google.colab.output.renderOutput(dataTable, element);\n",
              "        const docLink = document.createElement('div');\n",
              "        docLink.innerHTML = docLinkHtml;\n",
              "        element.appendChild(docLink);\n",
              "      }\n",
              "    </script>\n",
              "  </div>\n",
              "\n",
              "\n",
              "    <div id=\"df-47b70857-3195-4532-8269-0d533df2f09f\">\n",
              "      <button class=\"colab-df-quickchart\" onclick=\"quickchart('df-47b70857-3195-4532-8269-0d533df2f09f')\"\n",
              "                title=\"Suggest charts\"\n",
              "                style=\"display:none;\">\n",
              "\n",
              "<svg xmlns=\"http://www.w3.org/2000/svg\" height=\"24px\"viewBox=\"0 0 24 24\"\n",
              "     width=\"24px\">\n",
              "    <g>\n",
              "        <path d=\"M19 3H5c-1.1 0-2 .9-2 2v14c0 1.1.9 2 2 2h14c1.1 0 2-.9 2-2V5c0-1.1-.9-2-2-2zM9 17H7v-7h2v7zm4 0h-2V7h2v10zm4 0h-2v-4h2v4z\"/>\n",
              "    </g>\n",
              "</svg>\n",
              "      </button>\n",
              "\n",
              "<style>\n",
              "  .colab-df-quickchart {\n",
              "      --bg-color: #E8F0FE;\n",
              "      --fill-color: #1967D2;\n",
              "      --hover-bg-color: #E2EBFA;\n",
              "      --hover-fill-color: #174EA6;\n",
              "      --disabled-fill-color: #AAA;\n",
              "      --disabled-bg-color: #DDD;\n",
              "  }\n",
              "\n",
              "  [theme=dark] .colab-df-quickchart {\n",
              "      --bg-color: #3B4455;\n",
              "      --fill-color: #D2E3FC;\n",
              "      --hover-bg-color: #434B5C;\n",
              "      --hover-fill-color: #FFFFFF;\n",
              "      --disabled-bg-color: #3B4455;\n",
              "      --disabled-fill-color: #666;\n",
              "  }\n",
              "\n",
              "  .colab-df-quickchart {\n",
              "    background-color: var(--bg-color);\n",
              "    border: none;\n",
              "    border-radius: 50%;\n",
              "    cursor: pointer;\n",
              "    display: none;\n",
              "    fill: var(--fill-color);\n",
              "    height: 32px;\n",
              "    padding: 0;\n",
              "    width: 32px;\n",
              "  }\n",
              "\n",
              "  .colab-df-quickchart:hover {\n",
              "    background-color: var(--hover-bg-color);\n",
              "    box-shadow: 0 1px 2px rgba(60, 64, 67, 0.3), 0 1px 3px 1px rgba(60, 64, 67, 0.15);\n",
              "    fill: var(--button-hover-fill-color);\n",
              "  }\n",
              "\n",
              "  .colab-df-quickchart-complete:disabled,\n",
              "  .colab-df-quickchart-complete:disabled:hover {\n",
              "    background-color: var(--disabled-bg-color);\n",
              "    fill: var(--disabled-fill-color);\n",
              "    box-shadow: none;\n",
              "  }\n",
              "\n",
              "  .colab-df-spinner {\n",
              "    border: 2px solid var(--fill-color);\n",
              "    border-color: transparent;\n",
              "    border-bottom-color: var(--fill-color);\n",
              "    animation:\n",
              "      spin 1s steps(1) infinite;\n",
              "  }\n",
              "\n",
              "  @keyframes spin {\n",
              "    0% {\n",
              "      border-color: transparent;\n",
              "      border-bottom-color: var(--fill-color);\n",
              "      border-left-color: var(--fill-color);\n",
              "    }\n",
              "    20% {\n",
              "      border-color: transparent;\n",
              "      border-left-color: var(--fill-color);\n",
              "      border-top-color: var(--fill-color);\n",
              "    }\n",
              "    30% {\n",
              "      border-color: transparent;\n",
              "      border-left-color: var(--fill-color);\n",
              "      border-top-color: var(--fill-color);\n",
              "      border-right-color: var(--fill-color);\n",
              "    }\n",
              "    40% {\n",
              "      border-color: transparent;\n",
              "      border-right-color: var(--fill-color);\n",
              "      border-top-color: var(--fill-color);\n",
              "    }\n",
              "    60% {\n",
              "      border-color: transparent;\n",
              "      border-right-color: var(--fill-color);\n",
              "    }\n",
              "    80% {\n",
              "      border-color: transparent;\n",
              "      border-right-color: var(--fill-color);\n",
              "      border-bottom-color: var(--fill-color);\n",
              "    }\n",
              "    90% {\n",
              "      border-color: transparent;\n",
              "      border-bottom-color: var(--fill-color);\n",
              "    }\n",
              "  }\n",
              "</style>\n",
              "\n",
              "      <script>\n",
              "        async function quickchart(key) {\n",
              "          const quickchartButtonEl =\n",
              "            document.querySelector('#' + key + ' button');\n",
              "          quickchartButtonEl.disabled = true;  // To prevent multiple clicks.\n",
              "          quickchartButtonEl.classList.add('colab-df-spinner');\n",
              "          try {\n",
              "            const charts = await google.colab.kernel.invokeFunction(\n",
              "                'suggestCharts', [key], {});\n",
              "          } catch (error) {\n",
              "            console.error('Error during call to suggestCharts:', error);\n",
              "          }\n",
              "          quickchartButtonEl.classList.remove('colab-df-spinner');\n",
              "          quickchartButtonEl.classList.add('colab-df-quickchart-complete');\n",
              "        }\n",
              "        (() => {\n",
              "          let quickchartButtonEl =\n",
              "            document.querySelector('#df-47b70857-3195-4532-8269-0d533df2f09f button');\n",
              "          quickchartButtonEl.style.display =\n",
              "            google.colab.kernel.accessAllowed ? 'block' : 'none';\n",
              "        })();\n",
              "      </script>\n",
              "    </div>\n",
              "\n",
              "    </div>\n",
              "  </div>\n"
            ],
            "application/vnd.google.colaboratory.intrinsic+json": {
              "type": "dataframe",
              "variable_name": "tienda",
              "summary": "{\n  \"name\": \"tienda\",\n  \"rows\": 2359,\n  \"fields\": [\n    {\n      \"column\": \"Producto\",\n      \"properties\": {\n        \"dtype\": \"category\",\n        \"num_unique_values\": 51,\n        \"samples\": [\n          \"Guitarra ac\\u00fastica\",\n          \"Bal\\u00f3n de baloncesto\",\n          \"Smartwatch\"\n        ],\n        \"semantic_type\": \"\",\n        \"description\": \"\"\n      }\n    },\n    {\n      \"column\": \"Categor\\u00eda del Producto\",\n      \"properties\": {\n        \"dtype\": \"category\",\n        \"num_unique_values\": 8,\n        \"samples\": [\n          \"Muebles\",\n          \"Deportes y diversi\\u00f3n\",\n          \"Electr\\u00f3nicos\"\n        ],\n        \"semantic_type\": \"\",\n        \"description\": \"\"\n      }\n    },\n    {\n      \"column\": \"Precio\",\n      \"properties\": {\n        \"dtype\": \"number\",\n        \"std\": 614686.7653873172,\n        \"min\": 7600.0,\n        \"max\": 2977000.0,\n        \"num_unique_values\": 1937,\n        \"samples\": [\n          2499400.0,\n          14800.0,\n          80500.0\n        ],\n        \"semantic_type\": \"\",\n        \"description\": \"\"\n      }\n    },\n    {\n      \"column\": \"Costo de env\\u00edo\",\n      \"properties\": {\n        \"dtype\": \"number\",\n        \"std\": 32860.0017825605,\n        \"min\": 0.0,\n        \"max\": 160800.0,\n        \"num_unique_values\": 753,\n        \"samples\": [\n          117800.0,\n          54700.0,\n          45600.0\n        ],\n        \"semantic_type\": \"\",\n        \"description\": \"\"\n      }\n    },\n    {\n      \"column\": \"Fecha de Compra\",\n      \"properties\": {\n        \"dtype\": \"object\",\n        \"num_unique_values\": 1018,\n        \"samples\": [\n          \"15/09/2022\",\n          \"03/06/2020\",\n          \"06/11/2021\"\n        ],\n        \"semantic_type\": \"\",\n        \"description\": \"\"\n      }\n    },\n    {\n      \"column\": \"Vendedor\",\n      \"properties\": {\n        \"dtype\": \"category\",\n        \"num_unique_values\": 14,\n        \"samples\": [\n          \"Juliana Costa\",\n          \"Mariana Herrera\",\n          \"Pedro Gomez\"\n        ],\n        \"semantic_type\": \"\",\n        \"description\": \"\"\n      }\n    },\n    {\n      \"column\": \"Lugar de Compra\",\n      \"properties\": {\n        \"dtype\": \"category\",\n        \"num_unique_values\": 19,\n        \"samples\": [\n          \"Bogot\\u00e1\",\n          \"Pereira\",\n          \"Neiva\"\n        ],\n        \"semantic_type\": \"\",\n        \"description\": \"\"\n      }\n    },\n    {\n      \"column\": \"Calificaci\\u00f3n\",\n      \"properties\": {\n        \"dtype\": \"number\",\n        \"std\": 1,\n        \"min\": 1,\n        \"max\": 5,\n        \"num_unique_values\": 5,\n        \"samples\": [\n          1,\n          2,\n          5\n        ],\n        \"semantic_type\": \"\",\n        \"description\": \"\"\n      }\n    },\n    {\n      \"column\": \"M\\u00e9todo de pago\",\n      \"properties\": {\n        \"dtype\": \"category\",\n        \"num_unique_values\": 4,\n        \"samples\": [\n          \"Nequi\",\n          \"Tarjeta de d\\u00e9bito\",\n          \"Tarjeta de cr\\u00e9dito\"\n        ],\n        \"semantic_type\": \"\",\n        \"description\": \"\"\n      }\n    },\n    {\n      \"column\": \"Cantidad de cuotas\",\n      \"properties\": {\n        \"dtype\": \"number\",\n        \"std\": 2,\n        \"min\": 1,\n        \"max\": 24,\n        \"num_unique_values\": 15,\n        \"samples\": [\n          7,\n          14,\n          8\n        ],\n        \"semantic_type\": \"\",\n        \"description\": \"\"\n      }\n    },\n    {\n      \"column\": \"lat\",\n      \"properties\": {\n        \"dtype\": \"number\",\n        \"std\": 2.2874452492678627,\n        \"min\": -4.21528,\n        \"max\": 11.54444,\n        \"num_unique_values\": 19,\n        \"samples\": [\n          4.60971,\n          4.81333,\n          2.9273\n        ],\n        \"semantic_type\": \"\",\n        \"description\": \"\"\n      }\n    },\n    {\n      \"column\": \"lon\",\n      \"properties\": {\n        \"dtype\": \"number\",\n        \"std\": 1.2178272727088486,\n        \"min\": -77.28111,\n        \"max\": -67.9239,\n        \"num_unique_values\": 19,\n        \"samples\": [\n          -74.08175,\n          -75.69611,\n          -75.28189\n        ],\n        \"semantic_type\": \"\",\n        \"description\": \"\"\n      }\n    }\n  ]\n}"
            }
          },
          "metadata": {},
          "execution_count": 88
        }
      ],
      "source": [
        "import pandas as pd\n",
        "\n",
        "url = \"https://raw.githubusercontent.com/alura-es-cursos/challenge1-data-science-latam/refs/heads/main/base-de-datos-challenge1-latam/tienda_1%20.csv\"\n",
        "url2 = \"https://raw.githubusercontent.com/alura-es-cursos/challenge1-data-science-latam/refs/heads/main/base-de-datos-challenge1-latam/tienda_2.csv\"\n",
        "url3 = \"https://raw.githubusercontent.com/alura-es-cursos/challenge1-data-science-latam/refs/heads/main/base-de-datos-challenge1-latam/tienda_3.csv\"\n",
        "url4 = \"https://raw.githubusercontent.com/alura-es-cursos/challenge1-data-science-latam/refs/heads/main/base-de-datos-challenge1-latam/tienda_4.csv\"\n",
        "\n",
        "tienda = pd.read_csv(url)\n",
        "tienda2 = pd.read_csv(url2)\n",
        "tienda3 = pd.read_csv(url3)\n",
        "tienda4 = pd.read_csv(url4)\n",
        "\n",
        "tienda.head()"
      ]
    },
    {
      "cell_type": "markdown",
      "source": [
        "#1. Análisis de facturación\n",
        "\n"
      ],
      "metadata": {
        "id": "X62IW3KFUIYm"
      }
    },
    {
      "cell_type": "code",
      "source": [
        "import pandas as pd\n",
        "\n",
        "# URLs\n",
        "url1 = \"https://raw.githubusercontent.com/alura-es-cursos/challenge1-data-science-latam/main/base-de-datos-challenge1-latam/tienda_1%20.csv\"\n",
        "url2 = \"https://raw.githubusercontent.com/alura-es-cursos/challenge1-data-science-latam/main/base-de-datos-challenge1-latam/tienda_2.csv\"\n",
        "url3 = \"https://raw.githubusercontent.com/alura-es-cursos/challenge1-data-science-latam/main/base-de-datos-challenge1-latam/tienda_3.csv\"\n",
        "url4 = \"https://raw.githubusercontent.com/alura-es-cursos/challenge1-data-science-latam/main/base-de-datos-challenge1-latam/tienda_4.csv\"\n",
        "\n",
        "# Leer cada CSV y agregar columna \"Tienda\"\n",
        "tienda1 = pd.read_csv(url1)\n",
        "tienda1[\"Tienda\"] = \"tienda1\"\n",
        "\n",
        "tienda2 = pd.read_csv(url2)\n",
        "tienda2[\"Tienda\"] = \"tienda2\"\n",
        "\n",
        "tienda3 = pd.read_csv(url3)\n",
        "tienda3[\"Tienda\"] = \"tienda3\"\n",
        "\n",
        "tienda4 = pd.read_csv(url4)\n",
        "tienda4[\"Tienda\"] = \"tienda4\"\n",
        "\n",
        "# Conectar todos los datos en un único DataFrame\n",
        "df = pd.concat([tienda1, tienda2, tienda3, tienda4], ignore_index=True)\n",
        "\n",
        "# Lista de URLs\n",
        "urls = [url1, url2, url3, url4]\n",
        "\n",
        "# Concatenar todos los datos en un único DataFrame, con la columna \"Tienda\" incluida\n",
        "df = pd.concat([tienda1, tienda2, tienda3, tienda4], ignore_index=True)\n",
        "\n",
        "# Mostrar primeras filas\n",
        "print(df.head())"
      ],
      "metadata": {
        "colab": {
          "base_uri": "https://localhost:8080/"
        },
        "id": "fha8MJOo4m2Z",
        "outputId": "244d783f-290d-4d1a-c119-c6a7a5358bca"
      },
      "execution_count": 89,
      "outputs": [
        {
          "output_type": "stream",
          "name": "stdout",
          "text": [
            "            Producto Categoría del Producto  Precio  Costo de envío  \\\n",
            "0  Asistente virtual           Electrónicos 164,300           6,900   \n",
            "1    Mesa de comedor                Muebles 192,300           8,400   \n",
            "2      Juego de mesa               Juguetes 209,600          15,900   \n",
            "3         Microondas      Electrodomésticos 757,500          41,000   \n",
            "4   Silla de oficina                Muebles 335,200          20,200   \n",
            "\n",
            "  Fecha de Compra         Vendedor Lugar de Compra  Calificación  \\\n",
            "0      16/01/2021      Pedro Gomez          Bogotá             4   \n",
            "1      18/05/2022  Beatriz Morales        Medellín             1   \n",
            "2      15/03/2021   Juan Fernandez       Cartagena             1   \n",
            "3      03/05/2022   Juan Fernandez            Cali             4   \n",
            "4      07/11/2020    Maria Alfonso        Medellín             5   \n",
            "\n",
            "       Método de pago  Cantidad de cuotas  lat  lon   Tienda  \n",
            "0  Tarjeta de crédito                   8    5  -74  tienda1  \n",
            "1  Tarjeta de crédito                   4    6  -76  tienda1  \n",
            "2  Tarjeta de crédito                   1   10  -76  tienda1  \n",
            "3               Nequi                   1    3  -77  tienda1  \n",
            "4               Nequi                   1    6  -76  tienda1  \n"
          ]
        }
      ]
    },
    {
      "cell_type": "code",
      "source": [
        "# Convertir las columnas 'Precio' y 'Costo de envío' a tipo numérico, forzando valores no convertibles a NaN\n",
        "df[\"Precio\"] = pd.to_numeric(df[\"Precio\"], errors=\"coerce\")\n",
        "df[\"Costo de envío\"] = pd.to_numeric(df[\"Costo de envío\"], errors=\"coerce\")\n",
        "\n",
        "# Crear una nueva columna que sume el precio del producto más el costo de envío\n",
        "df[\"Total Facturación\"] = df[\"Precio\"] + df[\"Costo de envío\"]\n",
        "\n",
        "# Calcular la facturación total sumando todos los valores de la columna 'Total Facturación'\n",
        "facturacion_total = df[\"Total Facturación\"].sum()\n",
        "\n",
        "# Imprimir el total de la facturación\n",
        "print(\"Facturación total:\", facturacion_total)"
      ],
      "metadata": {
        "colab": {
          "base_uri": "https://localhost:8080/"
        },
        "id": "X9AQl9om2NVn",
        "outputId": "e1120c6a-0e15-4f98-b98c-a95fb4934842"
      },
      "execution_count": 90,
      "outputs": [
        {
          "output_type": "stream",
          "name": "stdout",
          "text": [
            "Facturación total: 4638316200.0\n"
          ]
        }
      ]
    },
    {
      "cell_type": "code",
      "source": [
        "# Opción de r esultado con formato legible con comas\n",
        "print(\"Facturación total:\", f\"{facturacion_total:,.2f}\")"
      ],
      "metadata": {
        "colab": {
          "base_uri": "https://localhost:8080/"
        },
        "id": "8DXVXrsT7WsP",
        "outputId": "79ae59cb-4842-427d-de0f-68eae9503aca"
      },
      "execution_count": 91,
      "outputs": [
        {
          "output_type": "stream",
          "name": "stdout",
          "text": [
            "Facturación total: 4,638,316,200.00\n"
          ]
        }
      ]
    },
    {
      "cell_type": "markdown",
      "source": [
        "# 2. Ventas por categoría"
      ],
      "metadata": {
        "id": "2V_vcAPzWZmR"
      }
    },
    {
      "cell_type": "code",
      "source": [
        "# Agrupar el DataFrame por la columna 'Categoría del Producto'\n",
        "# Luego, sumar los valores de la columna 'Total Facturación' para cada categoría\n",
        "ventas_categoria = df.groupby(\"Categoría del Producto\")[\"Total Facturación\"].sum().sort_values(ascending=False)\n",
        "\n",
        "# Mostrar las ventas totales por categoría, de mayor a menor\n",
        "print(ventas_categoria)"
      ],
      "metadata": {
        "id": "yZR6cOjXYSk1",
        "colab": {
          "base_uri": "https://localhost:8080/"
        },
        "outputId": "94ae229d-c5bf-443f-b3d1-7e720e4bf8c3"
      },
      "execution_count": 92,
      "outputs": [
        {
          "output_type": "stream",
          "name": "stdout",
          "text": [
            "Categoría del Producto\n",
            "Electrónicos              1,749,038,600\n",
            "Electrodomésticos         1,395,147,400\n",
            "Muebles                     798,111,400\n",
            "Instrumentos musicales      367,276,900\n",
            "Deportes y diversión        150,669,300\n",
            "Juguetes                     77,625,700\n",
            "Artículos para el hogar      60,690,900\n",
            "Libros                       39,756,000\n",
            "Name: Total Facturación, dtype: float64\n"
          ]
        }
      ]
    },
    {
      "cell_type": "code",
      "source": [
        "# Opción sin decimales y con comas\n",
        "pd.options.display.float_format = '{:,.0f}'.format  # Sin decimales y con comas\n",
        "\n",
        "print(ventas_categoria)"
      ],
      "metadata": {
        "colab": {
          "base_uri": "https://localhost:8080/"
        },
        "id": "q2ziFURr52qB",
        "outputId": "4002a99b-7a05-4e4f-d64b-cbc0993397bd"
      },
      "execution_count": 93,
      "outputs": [
        {
          "output_type": "stream",
          "name": "stdout",
          "text": [
            "Categoría del Producto\n",
            "Electrónicos              1,749,038,600\n",
            "Electrodomésticos         1,395,147,400\n",
            "Muebles                     798,111,400\n",
            "Instrumentos musicales      367,276,900\n",
            "Deportes y diversión        150,669,300\n",
            "Juguetes                     77,625,700\n",
            "Artículos para el hogar      60,690,900\n",
            "Libros                       39,756,000\n",
            "Name: Total Facturación, dtype: float64\n"
          ]
        }
      ]
    },
    {
      "cell_type": "markdown",
      "source": [
        "# 3. Calificación promedio de la tienda\n"
      ],
      "metadata": {
        "id": "Rq6tU_xSY3jk"
      }
    },
    {
      "cell_type": "code",
      "source": [
        "# Convertir la columna 'Calificación' a valores numéricos (por si hay datos mal cargados o como texto)\n",
        "# Los valores no convertibles se transforman en NaN gracias a errors=\"coerce\"\n",
        "df[\"Calificación\"] = pd.to_numeric(df[\"Calificación\"], errors=\"coerce\")\n",
        "\n",
        "# Calcular el promedio de todas las calificaciones (ignorando los NaN)\n",
        "calificacion_prom = df[\"Calificación\"].mean()\n",
        "\n",
        "# Imprimir la calificación promedio de todos los productos/ventas\n",
        "print(\"Calificación promedio:\", calificacion_prom)"
      ],
      "metadata": {
        "id": "I0KkjPoTY88F",
        "colab": {
          "base_uri": "https://localhost:8080/"
        },
        "outputId": "102a4d0c-1cb4-44cd-c169-1e56346232a1"
      },
      "execution_count": 94,
      "outputs": [
        {
          "output_type": "stream",
          "name": "stdout",
          "text": [
            "Calificación promedio: 4.014520402755696\n"
          ]
        }
      ]
    },
    {
      "cell_type": "code",
      "source": [
        "# Opción de clasificación redondeada\n",
        "print(\"Calificación promedio:\", round(calificacion_prom, 2))"
      ],
      "metadata": {
        "colab": {
          "base_uri": "https://localhost:8080/"
        },
        "id": "7I0jLzVY6QN-",
        "outputId": "a31f4e92-6091-4958-e6f5-1a890f6792c6"
      },
      "execution_count": 95,
      "outputs": [
        {
          "output_type": "stream",
          "name": "stdout",
          "text": [
            "Calificación promedio: 4.01\n"
          ]
        }
      ]
    },
    {
      "cell_type": "markdown",
      "source": [
        "# 4. Productos más y menos vendidos"
      ],
      "metadata": {
        "id": "DmNp1KPBZCm-"
      }
    },
    {
      "cell_type": "code",
      "source": [
        "# Contar cuántas veces se repite cada producto en la columna 'Producto'\n",
        "# value_counts() devuelve una serie ordenada por frecuencia descendente\n",
        "\n",
        "# Obtener el nombre del producto con la mayor cantidad de ventas (más vendido)\n",
        "producto_mas_vendido = df[\"Producto\"].value_counts().idxmax()\n",
        "\n",
        "# Obtener el nombre del producto con la menor cantidad de ventas (menos vendido)\n",
        "producto_menos_vendido = df[\"Producto\"].value_counts().idxmin()\n",
        "\n",
        "# Imprimir resultados\n",
        "print(\"Producto más vendido:\", producto_mas_vendido)\n",
        "print(\"Producto menos vendido:\", producto_menos_vendido)"
      ],
      "metadata": {
        "id": "0Sw3sd4IZIGW",
        "colab": {
          "base_uri": "https://localhost:8080/"
        },
        "outputId": "70c2dafe-77e4-407f-a1dd-280a79ea75f7"
      },
      "execution_count": 96,
      "outputs": [
        {
          "output_type": "stream",
          "name": "stdout",
          "text": [
            "Producto más vendido: Mesa de noche\n",
            "Producto menos vendido: Celular ABXY\n"
          ]
        }
      ]
    },
    {
      "cell_type": "markdown",
      "source": [
        "# 5. Envío promedio por tienda"
      ],
      "metadata": {
        "id": "Fl0cGi3bZKqU"
      }
    },
    {
      "cell_type": "code",
      "source": [
        "# Agrupar los datos por la columna 'Tienda'\n",
        "# Calcular el promedio del 'Costo de envío' para cada tienda\n",
        "envio_promedio_tienda = df.groupby(\"Tienda\")[\"Costo de envío\"].mean().sort_values(ascending=False)\n",
        "\n",
        "# Mostrar el costo de envío promedio por tienda, ordenado de mayor a menor\n",
        "print(envio_promedio_tienda)"
      ],
      "metadata": {
        "colab": {
          "base_uri": "https://localhost:8080/"
        },
        "id": "eZFXntYj4OIe",
        "outputId": "29ce52b3-9376-463a-f9c3-befb1da36e8b"
      },
      "execution_count": 97,
      "outputs": [
        {
          "output_type": "stream",
          "name": "stdout",
          "text": [
            "Tienda\n",
            "tienda1   26,019\n",
            "tienda2   25,216\n",
            "tienda3   24,806\n",
            "tienda4   23,459\n",
            "Name: Costo de envío, dtype: float64\n"
          ]
        }
      ]
    },
    {
      "cell_type": "code",
      "source": [
        "# Opción con signo $\n",
        "\n",
        "# Mostrar el costo de envío promedio por tienda, ordenado de mayor a menor\n",
        "print(envio_promedio_tienda.apply(lambda x: f\"${x:,.2f}\"))"
      ],
      "metadata": {
        "colab": {
          "base_uri": "https://localhost:8080/"
        },
        "id": "3JypxXOr7rc9",
        "outputId": "e91f8822-d03a-4548-f701-6c3e97a1b265"
      },
      "execution_count": 98,
      "outputs": [
        {
          "output_type": "stream",
          "name": "stdout",
          "text": [
            "Tienda\n",
            "tienda1    $26,018.61\n",
            "tienda2    $25,216.24\n",
            "tienda3    $24,805.68\n",
            "tienda4    $23,459.46\n",
            "Name: Costo de envío, dtype: object\n"
          ]
        }
      ]
    },
    {
      "cell_type": "markdown",
      "source": [
        "# Gráfico Total de Facturación por Tienda"
      ],
      "metadata": {
        "id": "08iWBZ3lWGUa"
      }
    },
    {
      "cell_type": "code",
      "source": [
        "import matplotlib.pyplot as plt\n",
        "import matplotlib.ticker as ticker\n",
        "\n",
        "# Total de facturación por tienda\n",
        "facturacion_tienda = df.groupby(\"Tienda\")[\"Total Facturación\"].sum().sort_values(ascending=False)\n",
        "\n",
        "plt.figure(figsize=(8, 5))\n",
        "\n",
        "# Cambiar color a morado y crear gráfico\n",
        "facturacion_tienda.plot(kind=\"bar\", color=\"#8e44ad\")  # color morado personalizado\n",
        "\n",
        "# Título y etiquetas\n",
        "plt.title(\"Facturación Total por Tienda\", fontsize=16)\n",
        "plt.xlabel(\"Tienda\", fontsize=12)\n",
        "plt.ylabel(\"Total Facturación (COP)\", fontsize=12)\n",
        "\n",
        "# Evitar notación científica y agregar signo $ con separadores de miles\n",
        "plt.gca().yaxis.set_major_formatter(ticker.FuncFormatter(lambda x, p: f\"${int(x):,}\"))\n",
        "\n",
        "# Mostrar grilla solo en y\n",
        "plt.grid(axis=\"y\", linestyle=\"--\", alpha=0.7)\n",
        "\n",
        "plt.tight_layout()\n",
        "plt.show()"
      ],
      "metadata": {
        "colab": {
          "base_uri": "https://localhost:8080/",
          "height": 434
        },
        "id": "xEkYeNBMQOQ7",
        "outputId": "4102fc65-e95f-4e70-de02-89a732a9e7af"
      },
      "execution_count": 115,
      "outputs": [
        {
          "output_type": "display_data",
          "data": {
            "text/plain": [
              "<Figure size 800x500 with 1 Axes>"
            ],
            "image/png": "[encoded data removed]"
          },
          "metadata": {}
        }
      ]
    },
    {
      "cell_type": "markdown",
      "source": [
        "# Gráfico Distribución de Métodos de Pago"
      ],
      "metadata": {
        "id": "i22QB5mgWQ84"
      }
    },
    {
      "cell_type": "code",
      "source": [
        "import matplotlib.pyplot as plt\n",
        "\n",
        "# Distribución de métodos de pago\n",
        "metodos_pago = df[\"Método de pago\"].value_counts()\n",
        "\n",
        "# Reordenamiento para que \"Tarjeta de débito\" venga antes que \"Cupón\"\n",
        "orden_deseado = [\"Tarjeta de crédito\", \"Nequi\", \"Tarjeta de débito\", \"Cupón\"]\n",
        "metodos_pago = metodos_pago.loc[orden_deseado]\n",
        "\n",
        "# Definir qué sectores queremos separar (explode)\n",
        "explode = [0.0, 0.0, 0.07, 0.07]  # Solo explotar débito y cupón\n",
        "\n",
        "plt.figure(figsize=(6, 6))\n",
        "metodos_pago.plot(\n",
        "    kind=\"pie\",\n",
        "    autopct=\"%1.1f%%\",\n",
        "    startangle=90,\n",
        "    colors=plt.cm.Pastel1.colors,\n",
        "    explode=explode,\n",
        "    shadow=False\n",
        ")\n",
        "\n",
        "plt.title(\"Distribución de Métodos de Pago\")\n",
        "plt.ylabel(\"\")  # Quita el label del eje Y\n",
        "plt.tight_layout()\n",
        "plt.show()"
      ],
      "metadata": {
        "colab": {
          "base_uri": "https://localhost:8080/",
          "height": 570
        },
        "id": "0NdqGgOAQOyq",
        "outputId": "fc4129bd-3ef5-4d42-9fba-e2e1abbc4fb1"
      },
      "execution_count": 118,
      "outputs": [
        {
          "output_type": "display_data",
          "data": {
            "text/plain": [
              "<Figure size 600x600 with 1 Axes>"
            ],
            "image/png": "[encoded data removed]"
          },
          "metadata": {}
        }
      ]
    },
    {
      "cell_type": "markdown",
      "source": [
        "# Gráfico Precio vs. Calificación"
      ],
      "metadata": {
        "id": "eeZjiE0HWnkr"
      }
    },
    {
      "cell_type": "code",
      "source": [
        "import matplotlib.pyplot as plt\n",
        "import matplotlib.ticker as ticker\n",
        "\n",
        "# Gráfico de dispersión: Precio vs. Calificación\n",
        "plt.figure(figsize=(8, 5))\n",
        "plt.scatter(df[\"Precio\"], df[\"Calificación\"], alpha=0.5, color=\"mediumseagreen\")  # color verde\n",
        "plt.title(\"Relación entre Precio y Calificación\")\n",
        "plt.xlabel(\"Precio\")\n",
        "plt.ylabel(\"Calificación\")\n",
        "plt.grid(True)\n",
        "\n",
        "# Formato legible en eje X con $ y separadores de miles\n",
        "plt.gca().xaxis.set_major_formatter(ticker.FuncFormatter(lambda x, _: f'${int(x):,}'))\n",
        "\n",
        "plt.tight_layout()\n",
        "plt.show()"
      ],
      "metadata": {
        "colab": {
          "base_uri": "https://localhost:8080/",
          "height": 436
        },
        "id": "29HcUyTiT14M",
        "outputId": "7f7a4a45-0c38-4e0a-e44c-97c4e8933f9a"
      },
      "execution_count": 117,
      "outputs": [
        {
          "output_type": "display_data",
          "data": {
            "text/plain": [
              "<Figure size 800x500 with 1 Axes>"
            ],
            "image/png": "[encoded data removed]"
          },
          "metadata": {}
        }
      ]
    },
    {
      "cell_type": "markdown",
      "source": [
        "# 📊 Informe Final de Análisis: Tienda recomendada para el Sr. Juan\n",
        "\n",
        "## 🔹 Introducción\n",
        "El objetivo de este análisis es determinar en qué tienda debe vender el Sr. Juan sus productos utilizando bases de datos de cuatro tiendas y analizando:\n",
        "\n",
        "    ✅ Facturación total por tienda.\n",
        "\n",
        "    ✅ Categorías de productos más y menos vendidas.\n",
        "\n",
        "    ✅ Calificaciones promedio de clientes.\n",
        "\n",
        "    ✅ Productos más y menos vendidos.\n",
        "\n",
        "    ✅ Coste de envío promedio por tienda.\n",
        "\n",
        "    ✅ Distribución de métodos de pago.\n",
        "\n",
        "Los análisis y gráficos generados nos permitieron tomar una decisión clara, basada en datos objetivos.\n",
        "\n",
        "# 🔹 Análisis de resultados\n",
        "\n",
        "**1️⃣ Facturación total**\n",
        "\n",
        "La facturación total en las cuatro tiendas fue de:\n",
        "\n",
        "💰 COP $4,638,316,200\n",
        "\n",
        "El gráfico generado mostró la facturación total por tienda de:\n",
        "\n",
        "    🔸 Tienda 1: COP 1.42 mil millones\n",
        "\n",
        "    🔸 Tienda 2: COP 1.23 mil millones\n",
        "\n",
        "    🔸 Tienda 3: COP 1.05 mil millones\n",
        "\n",
        "    🔸 Tienda 4: COP 0.93 mil millones\n",
        "\n",
        "\n",
        "🏆 La Tienda 1 es la que más factura, indicando mayor volumen de clientes y transacciones.\n",
        "\n",
        "\n",
        "**2️⃣ Categorías más y menos vendidas**\n",
        "\n",
        "La facturación por categoría muestra:\n",
        "\n",
        "  Más vendidos:\n",
        "\n",
        "    🔸 Electrónicos: COP 1.74 mil millones\n",
        "\n",
        "    🔸 Electrodomésticos: COP 1.39 mil millones\n",
        "\n",
        "  Menos vendidos:\n",
        "\n",
        "    🔸 Libros: COP 39.7 millones\n",
        "\n",
        "    🔸 Artículos para el hogar: COP 60.6 millones\n",
        "\n",
        "🏆 Los Electrónicos y Electrodomésticos son las categorías con mayor facturación, confirmando una alta demanda en estos segmentos.\n",
        "\n",
        "**3️⃣ Calificación promedio de clientes**\n",
        "\n",
        "La calificación promedio de las tiendas fue:\n",
        "\n",
        "⭐️ 4.01 sobre 5\n",
        "\n",
        "Lo que indica un alto nivel de satisfacción de los clientes en general, aportando seguridad al Sr. Juan respecto al servicio y percepción de las tiendas.\n",
        "\n",
        "**4️⃣ Productos más y menos vendidos**\n",
        "\n",
        "    🔸 Producto más vendido: Mesa de noche\n",
        "\n",
        "    🔸 Producto menos vendido: Celular ABXY\n",
        "\n",
        "Es notable que, a pesar de la alta facturación en Electrónica, el celular ABXY no tuvo alta cantidad de ventas, mientras que los muebles, en especial la mesa de noche, tienen mejor salida.\n",
        "\n",
        "**5️⃣ Costo de envío promedio por tienda**\n",
        "\n",
        "    🔸 Tienda 1: COP $26,019\n",
        "\n",
        "    🔸 Tienda 2: COP $25,216\n",
        "\n",
        "    🔸 Tienda 3: COP $24,806\n",
        "\n",
        "    🔸 Tienda 4: COP $23,459\n",
        "\n",
        "🏆 La Tienda 4 tiene el costo de envío más bajo, optimizando el margen de utilidad por venta.\n",
        "\n",
        "**6️⃣ Métodos de pago**\n",
        "\n",
        "El gráfico circular mostró lo siguiente:\n",
        "\n",
        "    🔸 Tarjeta de crédito: mayoría de transacciones.\n",
        "\n",
        "    🔸 Nequi: segunda más usada.\n",
        "\n",
        "    🔸 Tarjeta de débito y cupón: minoritarios.\n",
        "\n",
        "La diversidad de métodos de pago reduce fricciones en la compra, permitiendo al Sr. Juan llegar a más clientes.\n",
        "\n",
        "**7️⃣ Relación entre Precio y Calificación**\n",
        "\n",
        "El gráfico de dispersión mostró que:\n",
        "\n",
        "    🔸 Los productos con precios más altos no necesariamente tienen calificaciones más bajas.\n",
        "    🔸 Hay buena aceptación incluso en rangos de precios elevados, lo que permite al Sr. Juan colocar productos de mayor valor con menor riesgo.\n",
        "\n",
        "# Conclusión y recomendación\n",
        "\n",
        "🏆 La Tienda 1 es la tienda más recomendada para que el Sr. Juan venda sus productos, debido a que:\n",
        "\n",
        "    🔸 Tiene mayor facturación total, indicando alto volumen de ventas y volumen de clientes.\n",
        "\n",
        "    🔸 Las categorías de Electrónicos y Electrodomésticos son fuertes, alineadas con posibles productos de venta del Sr. Juan.\n",
        "\n",
        "    🔸 Buen nivel de satisfacción del cliente (calificación promedio 4.01).\n",
        "\n",
        "    🔸 Aunque el coste de envío no es el más bajo, se compensa con el volumen de ventas y potencial de ingresos.\n",
        "\n",
        "Si bien la Tienda 4 tiene un coste de envío más bajo, su facturación es menor, reduciendo la posibilidad de ventas.\n",
        "\n",
        "Si el Sr. Juan prioriza maximizar sus ingresos, llegar a más clientes y sostener un buen nivel de servicio, Tienda 1 es la opción óptima."
      ],
      "metadata": {
        "id": "viqLC8yVd1xn"
      }
    }
  ]
}